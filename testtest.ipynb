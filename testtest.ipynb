{
 "cells": [
  {
   "cell_type": "code",
   "execution_count": 1,
   "metadata": {},
   "outputs": [],
   "source": [
    "name = 'Zygis'"
   ]
  },
  {
   "cell_type": "code",
   "execution_count": 4,
   "metadata": {},
   "outputs": [
    {
     "name": "stdout",
     "output_type": "stream",
     "text": [
      "True\n",
      "False\n",
      "1972\n"
     ]
    }
   ],
   "source": [
    "print( '1972' .isdigit())\n",
    "print( '1972 ' .isdigit())\n",
    "print( '  1972  ' .strip())\n"
   ]
  },
  {
   "cell_type": "code",
   "execution_count": 12,
   "metadata": {},
   "outputs": [
    {
     "data": {
      "text/plain": [
       "'hihihihihihihihihihihihihihihihihihihihihihihihihihihihihihihihihihihihihihihihihihihihihihihihihihihihihihihihihihihihihihihihihihihihihihihihihihihihihihihihihihihihihihihihihihihihihihihihihihihihi'"
      ]
     },
     "execution_count": 12,
     "metadata": {},
     "output_type": "execute_result"
    }
   ],
   "source": [
    "'hi' * 100"
   ]
  },
  {
   "cell_type": "code",
   "execution_count": 16,
   "metadata": {},
   "outputs": [
    {
     "name": "stdout",
     "output_type": "stream",
     "text": [
      "Zygimantas Svit, nice to meett you\n",
      "Zygimantas Svit, nice to meet you. My number is 24\n"
     ]
    }
   ],
   "source": [
    "name = 'Zygimantas'\n",
    "surname = 'Svit'\n",
    "number = 24\n",
    "\n",
    "print(name + ' ' + surname + ', nice to meett you')\n",
    "\n",
    "print( f'{name} {surname}, nice to meet you. My number is {number}')"
   ]
  },
  {
   "cell_type": "code",
   "execution_count": null,
   "metadata": {},
   "outputs": [],
   "source": []
  },
  {
   "cell_type": "code",
   "execution_count": 30,
   "metadata": {},
   "outputs": [
    {
     "name": "stdout",
     "output_type": "stream",
     "text": [
      "Zygimantas Svit\n",
      "Zygimantas Svit\n",
      "PYTHON MAKES ME REALLY HAPPY!\n",
      "PyThOn makes me really happy!\n",
      "18\n",
      "18\n",
      "happy to learn Python!\n"
     ]
    }
   ],
   "source": [
    "name = 'Zygimantas'\n",
    "surname = \"Svit\"\n",
    "\n",
    "print( f'{name} {surname}')\n",
    "print( name, surname )\n",
    "\n",
    "text_1 = 'Python makes me really happy!'\n",
    "print( text_1.upper() )\n",
    "print( text_1.replace( 'Python', 'PyThOn'))\n",
    "\n",
    "text_2 = 'Hello World, I am happy to learn Python!'\n",
    "word_to_find = 'happy'\n",
    "print (text_2.find(word_to_find))\n",
    "print (text_2.index(word_to_find))\n",
    "\n",
    "print ( text_2[text_2.find(word_to_find): ])\n",
    "print ( text_2[text_2.find])\n",
    "\n"
   ]
  },
  {
   "cell_type": "code",
   "execution_count": 34,
   "metadata": {},
   "outputs": [
    {
     "name": "stdout",
     "output_type": "stream",
     "text": [
      "<class 'str'>\n",
      "<class 'int'>\n",
      "<class 'float'>\n",
      "15\n",
      "-5\n",
      "50\n",
      "0.5\n",
      "3125\n"
     ]
    }
   ],
   "source": [
    "number_symbol = '1'\n",
    "int_1 = 1\n",
    "float_1 = 1.0\n",
    "\n",
    "print(type(number_symbol))\n",
    "print(type(int_1))\n",
    "print(type(float_1))\n",
    "\n",
    "print( 5 + 10 )\n",
    "print( 5 - 10 )\n",
    "print( 5 * 10 )\n",
    "print( 5 / 10 )\n",
    "print( 5 ** 5)\n",
    "\n"
   ]
  },
  {
   "cell_type": "code",
   "execution_count": 38,
   "metadata": {},
   "outputs": [
    {
     "name": "stdout",
     "output_type": "stream",
     "text": [
      "12\n",
      "8\n",
      "20\n",
      "0\n",
      "5.0\n",
      "13.0\n",
      "8.0\n",
      "26.25\n",
      "0.5\n",
      "4.2\n"
     ]
    }
   ],
   "source": [
    "number_1 = 10\n",
    "number_2 = 2\n",
    "\n",
    "print( number_1 + number_2)\n",
    "print( number_1 - number_2)\n",
    "print( number_1 * number_2)\n",
    "print( number_1 % number_2)\n",
    "print( number_1 / number_2)\n",
    "\n",
    "number_1 = 10.5\n",
    "number_2 = 2.5\n",
    "\n",
    "print( number_1 + number_2)\n",
    "print( number_1 - number_2)\n",
    "print( number_1 * number_2)\n",
    "print( number_1 % number_2)\n",
    "print( number_1 / number_2)"
   ]
  },
  {
   "cell_type": "code",
   "execution_count": 52,
   "metadata": {},
   "outputs": [
    {
     "name": "stdout",
     "output_type": "stream",
     "text": [
      "Distance to the Sun 390 greater to the Moon\n",
      "2560\n",
      "106\n"
     ]
    }
   ],
   "source": [
    "distance_1 = 384_000\n",
    "distance_2 = 150_000_000\n",
    "speed = 150 #km/h\n",
    "\n",
    "print( f'Distance to the Sun {distance_2 // distance_1} greater to the Moon' )\n",
    "\n",
    "day = speed * 24\n",
    "month = day * 30\n",
    "year = month * 12\n",
    "\n",
    "print(distance_1//speed)\n",
    "print(distance_1//day)\n",
    "\n",
    "\n"
   ]
  },
  {
   "cell_type": "code",
   "execution_count": 53,
   "metadata": {},
   "outputs": [
    {
     "name": "stdout",
     "output_type": "stream",
     "text": [
      "1997-03-24\n",
      "2023-02-23\n",
      "9467\n"
     ]
    }
   ],
   "source": [
    "from datetime import date\n",
    "\n",
    "d0 = date( 1997, 3, 24)\n",
    "d1 = date.today()\n",
    "print(d0)\n",
    "print(d1)\n",
    "delta = d1 - d0\n",
    "print(delta.days)"
   ]
  },
  {
   "cell_type": "code",
   "execution_count": 56,
   "metadata": {},
   "outputs": [
    {
     "ename": "NameError",
     "evalue": "name 'Print' is not defined",
     "output_type": "error",
     "traceback": [
      "\u001b[1;31m---------------------------------------------------------------------------\u001b[0m",
      "\u001b[1;31mNameError\u001b[0m                                 Traceback (most recent call last)",
      "Cell \u001b[1;32mIn[56], line 1\u001b[0m\n\u001b[1;32m----> 1\u001b[0m Print(\u001b[39m10\u001b[39m\u001b[39m>\u001b[39m\u001b[39m5\u001b[39m)\n\u001b[0;32m      2\u001b[0m test \u001b[39m=\u001b[39m \u001b[39mbool\u001b[39m(\u001b[39m1\u001b[39m)\n\u001b[0;32m      3\u001b[0m \u001b[39mprint\u001b[39m (test)\n",
      "\u001b[1;31mNameError\u001b[0m: name 'Print' is not defined"
     ]
    }
   ],
   "source": [
    "Print(10>5)\n",
    "test = bool(1)\n",
    "print (test)\n",
    "\n"
   ]
  }
 ],
 "metadata": {
  "kernelspec": {
   "display_name": "Python 3",
   "language": "python",
   "name": "python3"
  },
  "language_info": {
   "codemirror_mode": {
    "name": "ipython",
    "version": 3
   },
   "file_extension": ".py",
   "mimetype": "text/x-python",
   "name": "python",
   "nbconvert_exporter": "python",
   "pygments_lexer": "ipython3",
   "version": "3.9.7"
  },
  "orig_nbformat": 4,
  "vscode": {
   "interpreter": {
    "hash": "202b640701b03da2ef98ec95bdec600be9df221ca5056f8c34204bad1f3c6b4f"
   }
  }
 },
 "nbformat": 4,
 "nbformat_minor": 2
}
